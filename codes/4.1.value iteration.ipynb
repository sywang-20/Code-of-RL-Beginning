{
 "cells": [
  {
   "cell_type": "code",
   "execution_count": 1,
   "id": "c2ad8cc2-2daa-425a-b11b-851b0a52bd54",
   "metadata": {},
   "outputs": [],
   "source": [
    "import numpy as np     #只需要下载numpy库即可\n",
    "import random\n",
    "import GridWorld_v1"
   ]
  },
  {
   "cell_type": "code",
   "execution_count": 2,
   "id": "441bf83e-6a37-45f1-829e-b1affd2194b0",
   "metadata": {},
   "outputs": [
    {
     "name": "stdout",
     "output_type": "stream",
     "text": [
      "⬜️⬜️⬜️⬜️⬜️\n",
      "⬜️🚫🚫⬜️⬜️\n",
      "⬜️⬜️🚫⬜️⬜️\n",
      "⬜️🚫✅🚫⬜️\n",
      "⬜️🚫⬜️⬜️⬜️\n",
      "⬆️⬆️⬆️⬆️⬆️\n",
      "⬆️⏫️⏫️⬆️⬆️\n",
      "⬆️⬆️⏫️⬆️⬆️\n",
      "⬆️⏫️✅⏫️⬆️\n",
      "⬆️⏫️⬆️⬆️⬆️\n"
     ]
    }
   ],
   "source": [
    "gamma = 0.9   #折扣因子，越接近0越近视\n",
    "rows = 5      #记得行数和列数这里要同步改\n",
    "columns = 5\n",
    "# gridworld = GridWorld_v1.GridWorld_v1(rows=rows, columns=columns, forbiddenAreaNums=4, targetNums=2, seed = random.randint(1,1000))\n",
    "# gridworld = GridWorld_v1.GridWorld_v1(desc = [\".#\",\".T\"])             #赵老师4-1的例子\n",
    "# gridworld = GridWorld_v1.GridWorld_v1(desc = [\"##.T\",\"...#\",\"....\"])  #随便弄的例子\n",
    "gridworld = GridWorld_v1.GridWorld_v1(forbiddenAreaScore=-10, score=1,desc = [\".....\",\".##..\",\"..#..\",\".#T#.\",\".#...\"]) \n",
    "gridworld.show()\n",
    "\n",
    "value = np.zeros(rows*columns)       #初始化可以任意，也可以全0\n",
    "qtable = np.zeros((rows*columns,5))  #初始化，这里主要是初始化维数，里面的内容会被覆盖所以无所谓 state*action\n",
    "policy = np.argmax(qtable,axis=1)    #初始策略\n",
    "gridworld.showPolicy(policy)\n"
   ]
  },
  {
   "cell_type": "code",
   "execution_count": 14,
   "id": "2ace6ead-ab02-46c5-b6e7-7deda91a13cc",
   "metadata": {},
   "outputs": [
    {
     "name": "stdout",
     "output_type": "stream",
     "text": [
      "⬜️⬜️⬜️⬜️⬜️\n",
      "⬜️🚫🚫⬜️⬜️\n",
      "⬜️⬜️🚫⬜️⬜️\n",
      "⬜️🚫✅🚫⬜️\n",
      "⬜️🚫⬜️⬜️⬜️\n",
      "➡️➡️➡️➡️⬇️\n",
      "⬆️⏫️⏩️➡️⬇️\n",
      "⬆️⬅️⏬➡️⬇️\n",
      "⬆️⏩️✅⏪⬇️\n",
      "⬆️⏩️⬆️⬅️⬅️\n",
      "Euclidean Distance: 25.0\n",
      "[3.45635187 3.84377236 4.27423957 4.75253647 5.28397747 3.10767343\n",
      " 3.45635187 4.75253647 5.28397747 5.87446747 2.79386284 2.5114333\n",
      " 9.96956747 5.87446747 6.53056747 2.5114333  9.96956747 9.96956747\n",
      " 9.96956747 7.25956747 2.25724672 8.96956747 9.96956747 8.96956747\n",
      " 8.06956747]\n",
      "➡️➡️➡️➡️⬇️\n",
      "⬆️⏫️⏩️➡️⬇️\n",
      "⬆️⬅️⏬➡️⬇️\n",
      "⬆️⏩️✅⏪⬇️\n",
      "⬆️⏩️⬆️⬅️⬅️\n",
      "[3.45635187 3.84377236 4.27423957 4.75253647 5.28397747 3.10767343\n",
      " 3.45635187 4.75253647 5.28397747 5.87446747 2.79386284 2.5114333\n",
      " 9.96956747 5.87446747 6.53056747 2.5114333  9.96956747 9.96956747\n",
      " 9.96956747 7.25956747 2.25724672 8.96956747 9.96956747 8.96956747\n",
      " 8.06956747]\n",
      "[1 1 1 1 2 0 0 1 1 2 0 3 2 1 2 0 1 4 3 2 0 1 0 3 3]\n"
     ]
    }
   ],
   "source": [
    "pre_value = value.copy()+1           #随便弄个不一样的初值\n",
    "\n",
    "gridworld.show()                     #打印gridworld\n",
    "gridworld.showPolicy(policy)         #打印策略\n",
    "\n",
    "cnt = 0                              #防止死循环，不需要也可以（因为可以证明必定收敛）\n",
    "while(np.sum((pre_value-value)**2)>0.001): \n",
    "    print(\"Euclidean Distance:\",np.sum((pre_value-value)**2))  #计算欧几里得距离\n",
    "    pre_value = value.copy()         #保存副本，方便前后对比\n",
    "\n",
    "    cnt = cnt+1                      #防止死循环\n",
    "    if cnt>100:                      \n",
    "        break\n",
    "        \n",
    "    for i in range(rows * columns):  # 5*5个状态\n",
    "        for j in range(5): # 5个action\n",
    "            score,nextState = gridworld.getScore(i,j)        #获取Si状态中，执行动作j后的（得分，下一个状态）\n",
    "            qtable[i][j] = score + gamma * value[nextState]  #开始迭代\n",
    "\n",
    "    policy = np.argmax(qtable,axis=1) #这个就是策略了，但是value-iteration，\n",
    "                                      #因为这里的策略是百分百选argmax的，别的概率是0，所以可以直接忽略策略的不确定性\n",
    "                                      #qtable中的每一行，都是一个状态的5个动作的q值，所以argmax就是最优动作\n",
    "    value = np.max(qtable,axis=1)     #更新value 向量,每个状态的最大q值\n",
    "\n",
    "    print(value)\n",
    "    gridworld.showPolicy(policy)\n",
    "print(value)\n",
    "print(policy)"
   ]
  },
  {
   "cell_type": "code",
   "execution_count": 21,
   "id": "54a22543-95cb-4e13-a760-624088217550",
   "metadata": {},
   "outputs": [
    {
     "name": "stdout",
     "output_type": "stream",
     "text": [
      "⬜️🚫\n",
      "⬜️✅\n",
      "⬆️➡️⬇️⬅️🔄\n",
      "⏫︎⏩️⏪🔄✅\n",
      "⏫\n",
      "︎\n",
      "⏩\n"
     ]
    }
   ],
   "source": [
    "print('⬜️🚫')\n",
    "print('⬜️✅')\n",
    "print('⬆️➡️⬇️⬅️🔄')\n",
    "print('⏫︎⏩️⏪🔄✅')\n",
    "\n",
    "tmp = \"⏫︎⏩️⏬⏪🔄\"\n",
    "print(tmp[0])\n",
    "print(tmp[1])\n",
    "print(tmp[2])"
   ]
  },
  {
   "cell_type": "code",
   "execution_count": null,
   "id": "32a08872-b6b6-4b8a-b552-17ba1251e3f2",
   "metadata": {},
   "outputs": [],
   "source": []
  }
 ],
 "metadata": {
  "kernelspec": {
   "display_name": "Python 3 (ipykernel)",
   "language": "python",
   "name": "python3"
  },
  "language_info": {
   "codemirror_mode": {
    "name": "ipython",
    "version": 3
   },
   "file_extension": ".py",
   "mimetype": "text/x-python",
   "name": "python",
   "nbconvert_exporter": "python",
   "pygments_lexer": "ipython3",
   "version": "3.9.12"
  }
 },
 "nbformat": 4,
 "nbformat_minor": 5
}
